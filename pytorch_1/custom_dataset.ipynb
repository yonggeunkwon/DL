{
 "cells": [
  {
   "attachments": {},
   "cell_type": "markdown",
   "metadata": {},
   "source": [
    "## Custom dataset 만들기"
   ]
  },
  {
   "cell_type": "code",
   "execution_count": 1,
   "metadata": {},
   "outputs": [],
   "source": [
    "import torch\n",
    "from torchvision import transforms\n",
    "import numpy as np"
   ]
  },
  {
   "cell_type": "code",
   "execution_count": 5,
   "metadata": {},
   "outputs": [],
   "source": [
    "class Custom_Dataset(torch.utils.data.Dataset):\n",
    "    def __init__(self, X, Y, transform = None):\n",
    "        self.X = X\n",
    "        self.Y = Y\n",
    "        self.transform = transform\n",
    "    def __len__(self):\n",
    "        return self.X.shape[0]\n",
    "    def __getitem__(self, idx):\n",
    "        x = self.X[idx]\n",
    "        if self.transform is not None:\n",
    "            x = self.transform(x)\n",
    "        y = self.Y[idx]\n",
    "        return x, y"
   ]
  },
  {
   "cell_type": "code",
   "execution_count": 11,
   "metadata": {},
   "outputs": [],
   "source": [
    "X_data = np.arange(-10, 10).reshape(-1, 1)\n",
    "Y_data = X_data ** 2"
   ]
  },
  {
   "cell_type": "code",
   "execution_count": 16,
   "metadata": {},
   "outputs": [],
   "source": [
    "transform = lambda x:x+1\n",
    "BATCH_SIZE = 8\n",
    "\n",
    "custom_DS = Custom_Dataset(X_data, Y_data, transform=transform)\n",
    "\n",
    "NoT = int(len(custom_DS)*0.8)\n",
    "NoV = int(len(custom_DS)*0.1)\n",
    "NoTes = len(custom_DS) - (NoT + NoV)\n",
    "\n",
    "train_DS, val_DS, test_DS = torch.utils.data.random_split(custom_DS, [NoT, NoV, NoTes])\n",
    "\n",
    "train_DL = torch.utils.data.DataLoader(train_DS, batch_size = BATCH_SIZE, shuffle = True)\n",
    "val_DL = torch.utils.data.DataLoader(val_DS, batch_size = BATCH_SIZE, shuffle = True)\n",
    "test_DL = torch.utils.data.DataLoader(test_DS, batch_size = BATCH_SIZE, shuffle = True)"
   ]
  },
  {
   "cell_type": "code",
   "execution_count": 17,
   "metadata": {},
   "outputs": [
    {
     "name": "stdout",
     "output_type": "stream",
     "text": [
      "x_batch = tensor([-3,  1, -4, -9,  2, -7,  5,  6]), \n",
      "y_batch = tensor([ 16,   0,  25, 100,   1,  64,  16,  25])\n",
      "x_batch = tensor([ 9, -1,  4,  3, -5, -6,  7, -8]), \n",
      "y_batch = tensor([64,  4,  9,  4, 36, 49, 36, 81])\n",
      "\n",
      "x_batch = tensor([10, -2]), \n",
      "y_batch = tensor([81,  9])\n",
      "\n",
      "x_batch = tensor([8, 0]), \n",
      "y_batch = tensor([49,  1])\n"
     ]
    }
   ],
   "source": [
    "for x_batch, y_batch in train_DL:\n",
    "    print(f\"x_batch = {x_batch.reshape(-1)}, \\n\" \n",
    "          f\"y_batch = {y_batch.reshape(-1)}\")  \n",
    "print()\n",
    "for x_batch, y_batch in val_DL:\n",
    "    print(f\"x_batch = {x_batch.reshape(-1)}, \\n\" \n",
    "          f\"y_batch = {y_batch.reshape(-1)}\")  \n",
    "print()\n",
    "for x_batch, y_batch in test_DL:\n",
    "    print(f\"x_batch = {x_batch.reshape(-1)}, \\n\" \n",
    "          f\"y_batch = {y_batch.reshape(-1)}\")  "
   ]
  },
  {
   "cell_type": "code",
   "execution_count": null,
   "metadata": {},
   "outputs": [],
   "source": []
  }
 ],
 "metadata": {
  "kernelspec": {
   "display_name": "DL",
   "language": "python",
   "name": "python3"
  },
  "language_info": {
   "codemirror_mode": {
    "name": "ipython",
    "version": 3
   },
   "file_extension": ".py",
   "mimetype": "text/x-python",
   "name": "python",
   "nbconvert_exporter": "python",
   "pygments_lexer": "ipython3",
   "version": "3.8.17"
  },
  "orig_nbformat": 4
 },
 "nbformat": 4,
 "nbformat_minor": 2
}
