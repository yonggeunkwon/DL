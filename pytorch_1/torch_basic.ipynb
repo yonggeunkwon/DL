{
  "cells": [
    {
      "cell_type": "markdown",
      "metadata": {
        "id": "RzMsP9hsc36l"
      },
      "source": [
        "## numpy와 닮은 파이토치 (pytorch)"
      ]
    },
    {
      "cell_type": "code",
      "execution_count": 1,
      "metadata": {
        "id": "SAmMX78Lc3Iy"
      },
      "outputs": [
        {
          "name": "stdout",
          "output_type": "stream",
          "text": [
            "tensor([1, 2, 3, 4])\n",
            "<class 'torch.Tensor'>\n",
            "torch.int64\n",
            "torch.Size([4])\n",
            "torch.float32\n",
            "tensor([1.0000, 2.0000, 3.1000, 4.0000])\n"
          ]
        }
      ],
      "source": [
        "import torch\n",
        "a=torch.tensor([1,2,3,4])\n",
        "print(a)\n",
        "print(type(a))\n",
        "print(a.dtype) # data type\n",
        "print(a.shape)\n",
        "b=torch.tensor([1,2, 3.1   , 4])\n",
        "print(b.dtype) # 하나라도 실수면 자동으로 실수 타입으로\n",
        "print(b)"
      ]
    },
    {
      "cell_type": "code",
      "execution_count": 2,
      "metadata": {},
      "outputs": [
        {
          "name": "stdout",
          "output_type": "stream",
          "text": [
            "torch.Size([5])\n",
            "1\n",
            "5\n"
          ]
        }
      ],
      "source": [
        "a = torch.tensor([1,2,3,4,5])\n",
        "print(a.shape)\n",
        "print(a.ndim)\n",
        "print(a.numel())"
      ]
    },
    {
      "cell_type": "code",
      "execution_count": 3,
      "metadata": {
        "id": "QRPA6o3EdDy5"
      },
      "outputs": [
        {
          "name": "stdout",
          "output_type": "stream",
          "text": [
            "tensor([[1, 2, 3],\n",
            "        [3, 4, 5]])\n",
            "torch.Size([2, 3])\n",
            "2\n",
            "6\n"
          ]
        }
      ],
      "source": [
        "A = torch.tensor([ [1,2,3], [3,4,5] ]) # 이 셀부터는 import torch 는 실행 했다 치고 작성\n",
        "# A = torch.tensor([[1,2],[3,4,5]]) # 리스트와는 달리 이제는 행렬이라서 각 행에 해당하는 숫자의 개수가 같아야 함\n",
        "print(A)\n",
        "print(A.shape)\n",
        "print(A.ndim)  # 차원의 수\n",
        "print(A.numel()) # 전체 성분의 수"
      ]
    },
    {
      "cell_type": "code",
      "execution_count": 4,
      "metadata": {
        "id": "DtQ20sP8dv8i"
      },
      "outputs": [
        {
          "name": "stdout",
          "output_type": "stream",
          "text": [
            "tensor([0., 0., 0., 0., 0.])\n",
            "tensor([[0, 0, 0],\n",
            "        [0, 0, 0]])\n",
            "tensor([1., 1., 1., 1., 1.])\n",
            "tensor([[0., 0., 0.],\n",
            "        [0., 0., 0.],\n",
            "        [0., 0., 0.]])\n",
            "tensor([3, 5, 7, 9])\n",
            "tensor([0.0000, 0.1000, 0.2000, 0.3000, 0.4000, 0.5000, 0.6000, 0.7000, 0.8000,\n",
            "        0.9000])\n",
            "tensor([0.0000, 0.1111, 0.2222, 0.3333, 0.4444, 0.5556, 0.6667, 0.7778, 0.8889,\n",
            "        1.0000])\n"
          ]
        }
      ],
      "source": [
        "print(torch.zeros(5))\n",
        "print(torch.zeros_like(A))\n",
        "print(torch.ones(5))\n",
        "print(torch.zeros(3,3))\n",
        "print(torch.arange(3,10,2)) # range랑 같은데 tensor로 만들어줌\n",
        "print(torch.arange(0,1,0.1)) # 소수점 가능\n",
        "print(torch.linspace(0,1,10)) # 0 에서부터 1 포함 10개로"
      ]
    },
    {
      "cell_type": "code",
      "execution_count": 5,
      "metadata": {
        "colab": {
          "base_uri": "https://localhost:8080/"
        },
        "id": "mEY_M0PPfRCz",
        "outputId": "32ea456d-6ef0-42bd-897e-01279e42a78b"
      },
      "outputs": [
        {
          "name": "stdout",
          "output_type": "stream",
          "text": [
            "tensor([5, 7, 9])\n"
          ]
        }
      ],
      "source": [
        "a=torch.tensor([1,2,3])\n",
        "b=torch.tensor([4,5,6])\n",
        "c=a+b\n",
        "print(c)"
      ]
    },
    {
      "cell_type": "code",
      "execution_count": 6,
      "metadata": {
        "colab": {
          "base_uri": "https://localhost:8080/"
        },
        "id": "zRGH_ASMfY5q",
        "outputId": "6c077e0f-6834-4489-e363-ee94e9b47339"
      },
      "outputs": [
        {
          "name": "stdout",
          "output_type": "stream",
          "text": [
            "tensor([[5, 7, 9],\n",
            "        [2, 3, 4]])\n",
            "tensor([[-3, -3, -3],\n",
            "        [ 0,  1,  2]])\n",
            "\n",
            "tensor([[ 4, 10, 18],\n",
            "        [ 1,  2,  3]])\n",
            "tensor([[0.2500, 0.4000, 0.5000],\n",
            "        [1.0000, 2.0000, 3.0000]])\n",
            "tensor([[16, 25, 36],\n",
            "        [ 1,  1,  1]])\n"
          ]
        }
      ],
      "source": [
        "A=torch.tensor([[1,2,3],[1,2,3]])\n",
        "B=torch.tensor([[4,5,6],[1,1,1]])\n",
        "C=A+B\n",
        "D=A-B\n",
        "print(C) \n",
        "print(D)\n",
        "print()\n",
        "print(A*B) # 곱셈은? 성분끼리의 곱! (Hadamard product)\n",
        "print(A/B) # 나누기도 마찬가지\n",
        "print(B**2) # 제곱도 각 성분에 대해서 해준다"
      ]
    },
    {
      "cell_type": "code",
      "execution_count": 7,
      "metadata": {
        "colab": {
          "base_uri": "https://localhost:8080/"
        },
        "id": "LDMR3HebgeIS",
        "outputId": "dea7eed6-2331-4979-fe0c-749df473347c"
      },
      "outputs": [
        {
          "name": "stdout",
          "output_type": "stream",
          "text": [
            "tensor([[ 1,  4],\n",
            "        [ 9, 16]])\n",
            "tensor([[ 7, 10],\n",
            "        [15, 22]])\n"
          ]
        }
      ],
      "source": [
        "A=torch.tensor([[1,2],[3,4]])\n",
        "B=torch.tensor([[1,2],[3,4]])\n",
        "print(A*B)\n",
        "print(A@B) # 이게 진짜 행렬 곱하기"
      ]
    },
    {
      "cell_type": "markdown",
      "metadata": {
        "id": "lwIW_G6ThRuW"
      },
      "source": [
        "## pytorch 의 인덱싱 슬라이스"
      ]
    },
    {
      "cell_type": "code",
      "execution_count": 8,
      "metadata": {
        "colab": {
          "base_uri": "https://localhost:8080/"
        },
        "id": "EvEXUodtlOyq",
        "outputId": "839ed169-fb9f-490b-e9a1-2067ea025d8a"
      },
      "outputs": [
        {
          "name": "stdout",
          "output_type": "stream",
          "text": [
            "tensor(1)\n",
            "tensor(2)\n",
            "tensor(9)\n",
            "tensor([2, 3, 4])\n",
            "tensor([8, 9])\n",
            "tensor([1, 2, 3, 4, 5, 6, 7])\n",
            "tensor([1, 2, 3, 4, 5, 6, 7, 8, 9])\n"
          ]
        }
      ],
      "source": [
        "a=torch.tensor([1,2,3,4,5,6,7,8,9])\n",
        "# 인덱싱과 슬라이싱, list할 때와 동일!\n",
        "print(a[0])\n",
        "print(a[1])\n",
        "print(a[-1])\n",
        "print(a[1:4])\n",
        "print(a[7:])\n",
        "print(a[:7])\n",
        "print(a[:])"
      ]
    },
    {
      "cell_type": "code",
      "execution_count": 9,
      "metadata": {
        "colab": {
          "base_uri": "https://localhost:8080/"
        },
        "id": "4PSLeE0flTMC",
        "outputId": "228f63da-3b73-4b5e-c746-3ca541e24a71"
      },
      "outputs": [
        {
          "name": "stdout",
          "output_type": "stream",
          "text": [
            "tensor([1, 2, 3])\n",
            "tensor([7, 8, 9])\n",
            "tensor([[4, 5, 6],\n",
            "        [7, 8, 9]])\n",
            "tensor([[1, 2, 3],\n",
            "        [4, 5, 6],\n",
            "        [7, 8, 9]])\n",
            "tensor(3)\n",
            "tensor(3)\n",
            "[[1, 2, 3, 4], [5, 6, 7, 8]]\n",
            "3\n",
            "tensor([4, 5, 6])\n",
            "tensor([4, 6])\n",
            "tensor([3, 6, 9])\n",
            "tensor([7, 8, 9])\n"
          ]
        }
      ],
      "source": [
        "# 행렬에 대한 인덱싱과 슬라이싱\n",
        "A=torch.tensor([ [1,2,3], [4,5,6], [7,8,9] ])\n",
        "print(A[0]) # 하나만 쓰면 행에 대한 인덱싱 (리스트 속 리스트 생각)\n",
        "print(A[-1])\n",
        "print(A[1:])\n",
        "print(A[:])\n",
        "print(A[0][2])\n",
        "print(A[0,2]) # 2차원 행렬도 동일한데, 리스트와 달리 이런 것도 됨\n",
        "B=[[1,2,3,4], [5,6,7,8]]\n",
        "print(B)\n",
        "print(B[0][2])\n",
        "# print(B[0,2]) # error!\n",
        "print(A[1,:]) # 1 행, 전부\n",
        "print(A[1,0:3:2])\n",
        "print(A[:,2]) # 전부, 2 열\n",
        "print(A[:][2])"
      ]
    },
    {
      "cell_type": "code",
      "execution_count": 10,
      "metadata": {
        "colab": {
          "base_uri": "https://localhost:8080/"
        },
        "id": "y6Zg1lZ9ZIBe",
        "outputId": "d239208a-0f40-4585-95c5-3fed9b3fa866"
      },
      "outputs": [
        {
          "name": "stdout",
          "output_type": "stream",
          "text": [
            "tensor([[[ 0,  1,  2,  3],\n",
            "         [ 4,  5,  6,  7],\n",
            "         [ 8,  9, 10, 11]],\n",
            "\n",
            "        [[12, 13, 14, 15],\n",
            "         [16, 17, 18, 19],\n",
            "         [20, 21, 22, 23]]])\n",
            "torch.Size([2, 3, 4])\n",
            "tensor(6)\n",
            "3\n",
            "torch.Size([1, 1, 4])\n"
          ]
        }
      ],
      "source": [
        "# 3차원 행렬 인덱싱\n",
        "A=torch.tensor([ [[0,1,2,3],[4,5,6,7],[8,9,10,11]] ,   \n",
        "             [[12,13,14,15],[16,17,18,19],[20,21,22,23]] ])\n",
        "print(A)\n",
        "print(A.shape) # 대괄호가 하나 늘어나면 왼쪽에 shape 값이 추가 된다.\n",
        "print(A[0,1,2])\n",
        "print(A.ndim)\n",
        "\n",
        "a=torch.tensor([[[1,2,3,4]]])\n",
        "print(a.shape)"
      ]
    },
    {
      "cell_type": "code",
      "execution_count": 11,
      "metadata": {
        "colab": {
          "base_uri": "https://localhost:8080/"
        },
        "id": "DBjH6loolzdS",
        "outputId": "74fd4c62-856b-44e0-efc2-a299d1fcd736"
      },
      "outputs": [
        {
          "name": "stdout",
          "output_type": "stream",
          "text": [
            "False\n",
            "tensor([[False, False,  True, False],\n",
            "        [False,  True, False,  True]])\n",
            "tensor([3, 3, 3])\n",
            "tensor([[  1,   2, 100,   4],\n",
            "        [  5, 100,   7, 100]])\n",
            "tensor([[1, 2],\n",
            "        [7, 8]])\n",
            "tensor([1, 2])\n"
          ]
        }
      ],
      "source": [
        "# boolean 인덱싱\n",
        "a=[1,2,3,4,5,3,3]\n",
        "print(a==3) # 여러개 값 들어있는 리스트랑 3 달랑 하나랑 같냐? 다르다!\n",
        "A=torch.tensor([[1,2,3,4],[5,3,7,3]])\n",
        "print(A==3) # 리스트와 달리 각 성분에 대해 비교해줌\n",
        "print(A[A==3]) # True, False가 담긴 행렬로 인덱싱 가능!!\n",
        "\n",
        "A[A==3] = 100\n",
        "print(A) # 그러면 이런 것도 가능하다! (3과 같은 애를 100으로 바꿔줘)\n",
        "\n",
        "A=torch.tensor([[1,2],[3,4],[5,6],[7,8]])\n",
        "B=torch.tensor([True, False, False, True]) # 참고로 그냥 리스트여도 됨\n",
        "print(A[B,:]) # 0행, 3행 슬라이싱\n",
        "\n",
        "b=torch.tensor([1,2,3,4])\n",
        "print(b[ [True,True,False,False] ])\n",
        "c=[1,2,3,4]\n",
        "# c[[True,True,False,False]] # error!"
      ]
    },
    {
      "cell_type": "code",
      "execution_count": 12,
      "metadata": {
        "colab": {
          "base_uri": "https://localhost:8080/"
        },
        "id": "FzKn6wIJZAgn",
        "outputId": "b4c1e2ce-2d88-4190-a31b-2c0393daba90"
      },
      "outputs": [
        {
          "name": "stdout",
          "output_type": "stream",
          "text": [
            "tensor(3)\n",
            "tensor(3)\n",
            "tensor([3, 4, 5])\n",
            "tensor([[3, 3, 3],\n",
            "        [4, 4, 4]])\n",
            "tensor([1, 2, 3])\n",
            "torch.Size([2, 2, 3])\n",
            "tensor([[[1, 2, 3],\n",
            "         [4, 5, 6]],\n",
            "\n",
            "        [[4, 5, 6],\n",
            "         [4, 5, 6]]])\n"
          ]
        }
      ],
      "source": [
        "# tensor로 인덱싱\n",
        "a=torch.tensor([1,2,3,4,5])\n",
        "A=a[2]\n",
        "print(A)\n",
        "A=a[ torch.tensor(2) ] # torch.tensor 안에다가?\n",
        "print(A)\n",
        "A=a[ torch.tensor([2,3,4]) ]\n",
        "print(A)\n",
        "A=a[ torch.tensor([[2,2,2],[3,3,3]]) ]\n",
        "print(A) # 인덱싱된 애들로 2행 3열짜리 행렬을 만든다\n",
        "\n",
        "a=[1,2,3]\n",
        "# a[ [1,1,1,1,2,2,2] ] # error!\n",
        "\n",
        "a=torch.tensor([[1,2,3],[4,5,6]])\n",
        "print(a[0])\n",
        "A=a[ torch.tensor([[0,1],[1,1]]) ]\n",
        "print(A.shape) # 예를 들어, a[0] = tensor([1,2,3])과 같이 1차원 데이터이므로 한 차원이 뒤에 늘어나서 2,2, \"3\" 이 된다!\n",
        "print(A) # segmentation 결과 그림 보여줄 때 사용!"
      ]
    },
    {
      "cell_type": "code",
      "execution_count": 13,
      "metadata": {
        "colab": {
          "base_uri": "https://localhost:8080/"
        },
        "id": "BBEF3i6xl1sK",
        "outputId": "95b15ce0-79c5-4728-bbb2-57c11b51cc35"
      },
      "outputs": [
        {
          "name": "stdout",
          "output_type": "stream",
          "text": [
            "tensor([[1, 2],\n",
            "        [3, 4],\n",
            "        [5, 6],\n",
            "        [7, 8]])\n",
            "torch.Size([4, 2])\n",
            "tensor(2)\n",
            "tensor([2])\n",
            "tensor([2])\n",
            "tensor([2, 8])\n",
            "tensor([[3, 4],\n",
            "        [3, 4],\n",
            "        [5, 6],\n",
            "        [5, 6],\n",
            "        [5, 6]])\n"
          ]
        }
      ],
      "source": [
        "A=torch.tensor([[1,2],[3,4],[5,6],[7,8]])\n",
        "print(A)\n",
        "print(A.shape)\n",
        "\n",
        "# 1. A[몇 번째 행이냐, 몇 번째 열이냐]\n",
        "print(A[0,1])\n",
        "# 2. A[ tensor(bool) ] => A와 같은 shape을 가지는 tensor형 bool이 어디에 True를 가지고 있냐\n",
        "print(A[ torch.tensor([[False,True],[False,False],[False,False],[False,False]]) ])\n",
        "print(A[A==2])\n",
        "# 3. A[몇 번째 값에 True가 있냐, 몇 번째 값에 True가 있냐]\n",
        "print(A[ [True,False,False,True], [False,True] ])\n",
        "# 4. A[ tensor ] # 몇 번째 것을 어떻게 쌓을거냐\n",
        "print(A[ torch.tensor([1,1,2,2,2]) ])"
      ]
    },
    {
      "cell_type": "markdown",
      "metadata": {
        "id": "QYBXKfCupHU9"
      },
      "source": [
        "## pytorch의 여러 함수들"
      ]
    },
    {
      "cell_type": "code",
      "execution_count": 14,
      "metadata": {
        "colab": {
          "base_uri": "https://localhost:8080/"
        },
        "id": "0lfFqRGOpI-0",
        "outputId": "bcad5926-c6a7-4816-f1ef-7844000984dd"
      },
      "outputs": [
        {
          "name": "stdout",
          "output_type": "stream",
          "text": [
            "tensor([[-0.3976, -2.1101,  0.6973],\n",
            "        [ 1.3968, -0.8406,  0.7623],\n",
            "        [-0.4831,  0.5613,  0.1137]])\n",
            "tensor([[0.8480, 0.7713, 0.5792],\n",
            "        [0.4500, 0.6499, 0.0243],\n",
            "        [0.6407, 0.0426, 0.8098]])\n",
            "tensor([[-0.3976, -2.1101,  0.6973],\n",
            "        [-0.4831,  0.5613,  0.1137]])\n"
          ]
        }
      ],
      "source": [
        "A=torch.randn(3,3) # Normal 의 n\n",
        "B=torch.rand(3,3) # 이건 uniform\n",
        "print(A)\n",
        "print(B)\n",
        "print(A[A[:,0]<0,:]) # 0 번째 열이 음수인 행들"
      ]
    },
    {
      "cell_type": "code",
      "execution_count": 15,
      "metadata": {
        "colab": {
          "base_uri": "https://localhost:8080/"
        },
        "id": "J6KxUXALpniU",
        "outputId": "6c0912c6-aa60-4d03-cc55-980b9a547e46"
      },
      "outputs": [
        {
          "name": "stdout",
          "output_type": "stream",
          "text": [
            "tensor([[ 1.0829,  1.1503,  1.5825],\n",
            "        [ 0.8859,  0.0736, -0.6155],\n",
            "        [-0.2030,  0.6725, -0.9619]])\n",
            "tensor([[1.0829, 1.1503, 1.5825],\n",
            "        [0.8859, 0.0736, 0.6155],\n",
            "        [0.2030, 0.6725, 0.9619]])\n",
            "tensor([[1.0406, 1.0725, 1.2580],\n",
            "        [0.9412, 0.2712, 0.7845],\n",
            "        [0.4505, 0.8201, 0.9808]])\n",
            "tensor([[2.9534, 3.1593, 4.8671],\n",
            "        [2.4251, 1.0764, 0.5404],\n",
            "        [0.8163, 1.9592, 0.3822]])\n",
            "tensor([[ 0.0797,  0.1401,  0.4590],\n",
            "        [-0.1212, -2.6094, -0.4853],\n",
            "        [-1.5948, -0.3967, -0.0388]])\n",
            "tensor(1.)\n",
            "tensor(1.)\n",
            "tensor(1.)\n",
            "tensor([[ 1.,  1.,  2.],\n",
            "        [ 1.,  0., -1.],\n",
            "        [-0.,  1., -1.]])\n",
            "tensor([[ 1.0800,  1.1500,  1.5800],\n",
            "        [ 0.8900,  0.0700, -0.6200],\n",
            "        [-0.2000,  0.6700, -0.9600]])\n",
            "tensor([[ 1.,  1.,  1.],\n",
            "        [ 0.,  0., -1.],\n",
            "        [-1.,  0., -1.]])\n",
            "tensor([[2., 2., 2.],\n",
            "        [1., 1., -0.],\n",
            "        [-0., 1., -0.]])\n"
          ]
        }
      ],
      "source": [
        "A=torch.randn(3,3)\n",
        "print(A)\n",
        "print(torch.abs(A))\n",
        "print(torch.sqrt(torch.abs(A)))\n",
        "print(torch.exp(A))\n",
        "print(torch.log(torch.abs(A)))\n",
        "print(torch.log(torch.exp(torch.tensor(1)))) # torch.exp(torch.tensor(1)) = e^1\n",
        "print(torch.log10(torch.tensor(10)))\n",
        "print(torch.log2(torch.tensor(2)))\n",
        "print(torch.round(A)) # 반올림\n",
        "print(torch.round(A, decimals=2)) # 소수점 둘째자리까지\n",
        "print(torch.floor(A)) # 내림\n",
        "print(torch.ceil(A)) # 올림"
      ]
    },
    {
      "cell_type": "code",
      "execution_count": 16,
      "metadata": {
        "colab": {
          "base_uri": "https://localhost:8080/"
        },
        "id": "PFPjWX54qaXi",
        "outputId": "057f90fd-1a3a-45b6-c652-1dba6bd8f409"
      },
      "outputs": [
        {
          "name": "stdout",
          "output_type": "stream",
          "text": [
            "tensor(0.5000)\n",
            "tensor(0.5000)\n",
            "tensor(1.)\n",
            "tensor(-1.)\n"
          ]
        },
        {
          "data": {
            "text/plain": [
              "torch.Tensor"
            ]
          },
          "execution_count": 16,
          "metadata": {},
          "output_type": "execute_result"
        }
      ],
      "source": [
        "print(torch.sin(torch.tensor(torch.pi/6))) # type(torch.pi) <- float임 만약 tensor와 연산하면 tensor로 바꿔줌\n",
        "print(torch.cos(torch.tensor(torch.pi/3)))\n",
        "print(torch.tan(torch.tensor(torch.pi/4)))\n",
        "print(torch.tanh(torch.tensor(-10)))\n",
        "\n",
        "type(torch.tensor(1)/6)"
      ]
    },
    {
      "cell_type": "code",
      "execution_count": 17,
      "metadata": {
        "colab": {
          "base_uri": "https://localhost:8080/"
        },
        "id": "huDfIsJoqdDa",
        "outputId": "c4f8d6c2-883c-4198-9e38-ac6843154340"
      },
      "outputs": [
        {
          "name": "stdout",
          "output_type": "stream",
          "text": [
            "tensor(nan)\n",
            "tensor([False, False,  True, False, False])\n",
            "tensor([False, False, False, False,  True])\n"
          ]
        }
      ],
      "source": [
        "torch.nan # not a number\n",
        "print(torch.log(torch.tensor(-1)))\n",
        "print(torch.isnan(torch.tensor([1,2,torch.nan,3,4])))\n",
        "print(torch.isinf(torch.tensor([1,2,3,4,torch.inf])))"
      ]
    },
    {
      "cell_type": "code",
      "execution_count": 18,
      "metadata": {
        "colab": {
          "base_uri": "https://localhost:8080/"
        },
        "id": "C9G0Rdhiqn3a",
        "outputId": "97cc435e-aebf-4d2f-8b43-264fe71f0c80"
      },
      "outputs": [
        {
          "name": "stdout",
          "output_type": "stream",
          "text": [
            "tensor([[-1.9289, -2.4406,  0.4843, -0.2238],\n",
            "        [ 1.0686, -1.4250, -0.5246,  2.0686],\n",
            "        [-1.1450,  0.2210,  1.2743,  0.1781]])\n",
            "torch.return_types.max(\n",
            "values=tensor([0.4843, 2.0686, 1.2743]),\n",
            "indices=tensor([2, 3, 2]))\n",
            "torch.return_types.max(\n",
            "values=tensor([[0.4843],\n",
            "        [2.0686],\n",
            "        [1.2743]]),\n",
            "indices=tensor([[2],\n",
            "        [3],\n",
            "        [2]]))\n"
          ]
        }
      ],
      "source": [
        "A=torch.randn(3,4)\n",
        "print(A)\n",
        "# print(torch.max(A))\n",
        "# print(torch.max(A,dim=0))\n",
        "print(torch.max(A,dim=1))\n",
        "# print(torch.max(A,dim=0, keepdims=True))\n",
        "print(torch.max(A,dim=1, keepdims=True)) # 3 행 1열 짜리 2D tensor\n",
        "# print(torch.min(A))\n",
        "# print(torch.min(A,dim=0))\n",
        "# print(torch.min(A,dim=1))\n",
        "# print(torch.argmax(A))\n",
        "# print(torch.argmax(A,dim=0)) # 각 열에서 가장 큰 애가 존재하는 인덱스\n",
        "# print(torch.argmax(A,dim=1)) # 각 행에서 가장 큰 애가 존재하는 인덱스"
      ]
    },
    {
      "cell_type": "code",
      "execution_count": 19,
      "metadata": {
        "colab": {
          "base_uri": "https://localhost:8080/"
        },
        "id": "5h8JeQ8bqsrv",
        "outputId": "751af5bc-5e4f-49d5-826d-7113be893edc"
      },
      "outputs": [
        {
          "name": "stdout",
          "output_type": "stream",
          "text": [
            "tensor(1.0904)\n",
            "tensor(1.0904)\n",
            "tensor([[0.6309],\n",
            "        [1.0904],\n",
            "        [1.3789],\n",
            "        [0.5114],\n",
            "        [0.2214],\n",
            "        [0.8886]])\n",
            "tensor([[0.6309],\n",
            "        [1.0904],\n",
            "        [1.3789],\n",
            "        [0.5114],\n",
            "        [0.2214],\n",
            "        [0.8886]])\n"
          ]
        }
      ],
      "source": [
        "a=torch.randn(6,1)\n",
        "# print(a)\n",
        "# a_sorted=torch.sort(a,dim=0)\n",
        "# print(a_sorted)\n",
        "\n",
        "# a=torch.randn(6,1)\n",
        "# print(a)\n",
        "# print(a.sort(dim=0))\n",
        "# print(a.sort(dim=0, descending=True))\n",
        "\n",
        "print(torch.max(a))\n",
        "print(a.max())\n",
        "print(torch.abs(a))\n",
        "print(a.abs())"
      ]
    },
    {
      "cell_type": "code",
      "execution_count": 20,
      "metadata": {
        "colab": {
          "base_uri": "https://localhost:8080/"
        },
        "id": "KJUEZtB4rglS",
        "outputId": "d0b81b3c-15cd-41d9-bc17-e248d54a0e2c"
      },
      "outputs": [
        {
          "name": "stdout",
          "output_type": "stream",
          "text": [
            "tensor([[ 0.7480,  0.5358,  0.4362, -2.4694],\n",
            "        [ 2.0630, -1.0652, -0.2977, -0.4488],\n",
            "        [ 1.7199, -0.6084,  0.5276, -0.1979]])\n",
            "tensor(0.9432)\n",
            "tensor([-0.7494,  0.2514,  1.4412])\n",
            "tensor([[-0.7494],\n",
            "        [ 0.2514],\n",
            "        [ 1.4412]])\n",
            "tensor(0.0786)\n",
            "tensor([-0.1873,  0.0628,  0.3603])\n",
            "tensor([[-0.1873],\n",
            "        [ 0.0628],\n",
            "        [ 0.3603]])\n",
            "tensor(1.2205)\n",
            "tensor([[-0.7494],\n",
            "        [ 0.2514],\n",
            "        [ 1.4412]])\n",
            "tensor([[-0.1873],\n",
            "        [ 0.0628],\n",
            "        [ 0.3603]])\n",
            "tensor(1.2205)\n"
          ]
        }
      ],
      "source": [
        "A=torch.randn(3,4)\n",
        "print(A)\n",
        "print(torch.sum(A))\n",
        "print(torch.sum(A,dim=1))\n",
        "print(torch.sum(A,dim=1,keepdims=True))\n",
        "print(torch.mean(A))\n",
        "print(torch.mean(A,dim=1))\n",
        "print(torch.mean(A,dim=1,keepdims=True))\n",
        "print(torch.std(A)) # standard deviation 표준 편차\n",
        "\n",
        "print(A.sum(dim=1, keepdims=True))\n",
        "print(A.mean(dim=1, keepdims=True))\n",
        "print(A.std())"
      ]
    },
    {
      "cell_type": "code",
      "execution_count": 21,
      "metadata": {
        "colab": {
          "base_uri": "https://localhost:8080/"
        },
        "id": "CmuensVlsERE",
        "outputId": "853acbb8-f0c2-4877-94ea-03698294489e"
      },
      "outputs": [
        {
          "name": "stdout",
          "output_type": "stream",
          "text": [
            "tensor([3, 4, 4, 1, 2, 4, 3, 3, 2, 3, 1, 2])\n",
            "torch.Size([12])\n",
            "tensor([[[3, 4, 4],\n",
            "         [1, 2, 4]],\n",
            "\n",
            "        [[3, 3, 2],\n",
            "         [3, 1, 2]]])\n",
            "3\n"
          ]
        }
      ],
      "source": [
        "A=torch.randint(1,5,size=(12,)) # 1부터 5미만 12개 정수 (1 차원은 (N,) 과 같이 표현)\n",
        "print(A)\n",
        "print(A.shape)\n",
        "\n",
        "B=A.reshape(2,2,3)\n",
        "print(B)\n",
        "print(B.ndim) # 3 차원 행렬이다"
      ]
    },
    {
      "cell_type": "code",
      "execution_count": 22,
      "metadata": {
        "colab": {
          "base_uri": "https://localhost:8080/"
        },
        "id": "VdXu_OZ1sgNK",
        "outputId": "1a2657e5-272f-4bf1-e23d-ad0fc7d1d942"
      },
      "outputs": [
        {
          "name": "stdout",
          "output_type": "stream",
          "text": [
            "tensor(9)\n",
            "tensor([[9]])\n",
            "tensor([[9]])\n",
            "tensor([[9]])\n",
            "tensor([[9]])\n",
            "torch.Size([4, 6, 3])\n",
            "torch.Size([6, 3, 4])\n"
          ]
        }
      ],
      "source": [
        "a=torch.tensor([1,2,3])\n",
        "b=torch.tensor([2,2,1])\n",
        "print(torch.sum(a*b))\n",
        "\n",
        "a=a.reshape(3,1)\n",
        "b=b.reshape(3,1)\n",
        "print(a.transpose(1,0)@b)\n",
        "print(a.permute(1,0)@b)\n",
        "print(a.T@b)\n",
        "print(a.t()@b)\n",
        "\n",
        "A=torch.randn(4,3,6)\n",
        "print(A.permute(0,2,1).shape)\n",
        "print(A.transpose(0,2).shape) # transpose 는 둘끼리 자리 바꾸기만 가능"
      ]
    },
    {
      "cell_type": "code",
      "execution_count": 23,
      "metadata": {
        "colab": {
          "base_uri": "https://localhost:8080/"
        },
        "id": "aYsTsVD7sjmj",
        "outputId": "45b44a74-facf-4ee2-83db-c5529bcbb812"
      },
      "outputs": [
        {
          "name": "stdout",
          "output_type": "stream",
          "text": [
            "tensor([ 0,  1,  2,  3,  4,  5,  6,  7,  8,  9, 10, 11, 12, 13, 14, 15, 16, 17,\n",
            "        18, 19])\n",
            "tensor([[ 0,  1,  2,  3,  4],\n",
            "        [ 5,  6,  7,  8,  9],\n",
            "        [10, 11, 12, 13, 14],\n",
            "        [15, 16, 17, 18, 19]])\n",
            "torch.Size([4, 5])\n",
            "torch.Size([2, 5, 2])\n",
            "torch.Size([2, 2, 5])\n",
            "torch.Size([1, 20])\n",
            "torch.Size([20, 1])\n"
          ]
        }
      ],
      "source": [
        "A=torch.arange(20)\n",
        "print(A)\n",
        "print(A.reshape(4,5))\n",
        "print(A.reshape(4,-1).shape) # 4개 행이 될 수 있도록 열의 수를 맞춰라\n",
        "print(A.reshape(2,5,-1).shape)\n",
        "print(A.reshape(2,-1,5).shape)\n",
        "print(A.reshape(1,-1).shape) # 2차원 행 벡터\n",
        "print(A.reshape(-1,1).shape) # 2차원 열 벡터"
      ]
    },
    {
      "cell_type": "code",
      "execution_count": 24,
      "metadata": {
        "colab": {
          "base_uri": "https://localhost:8080/"
        },
        "id": "VFBBHxp2zFyr",
        "outputId": "81ceb5d9-751d-4d6b-b069-29c45781173a"
      },
      "outputs": [
        {
          "name": "stdout",
          "output_type": "stream",
          "text": [
            "torch.Size([4, 5, 6])\n",
            "torch.Size([4, 5, 6])\n",
            "torch.Size([2, 3, 4, 5])\n",
            "torch.Size([2, 3, 4, 5])\n",
            "torch.Size([3, 4, 6])\n",
            "torch.Size([3, 4, 6])\n"
          ]
        }
      ],
      "source": [
        "x=torch.randn(2,3,4,5,6)\n",
        "print(x[1,2,:,:,:].shape) \n",
        "print(x[1,2,...].shape) # x[1, 2, …] 는 x[1, 2, :, :, :] 와 같습니다.\n",
        "print(x[:,:,:,:,3].shape)\n",
        "print(x[...,3].shape) # x[…, 3] 는 x[:, :, :, :, 3] 와 같습니다.\n",
        "print(x[1,:,:,3,:].shape)\n",
        "print(x[1,...,3,:].shape) # x[1, …, 3, :] 는 x[1, :, :, 3, :] 와 같습니다."
      ]
    },
    {
      "cell_type": "code",
      "execution_count": 25,
      "metadata": {
        "colab": {
          "base_uri": "https://localhost:8080/"
        },
        "id": "VsBKRAiJzbBz",
        "outputId": "d6f38eee-4608-48b6-b4ca-d2f151fb7d33"
      },
      "outputs": [
        {
          "name": "stdout",
          "output_type": "stream",
          "text": [
            "tensor([[[1., 1., 1., 1.],\n",
            "         [1., 1., 1., 1.],\n",
            "         [1., 1., 1., 1.]],\n",
            "\n",
            "        [[1., 1., 1., 1.],\n",
            "         [1., 1., 1., 1.],\n",
            "         [1., 1., 1., 1.]],\n",
            "\n",
            "        [[0., 0., 0., 0.],\n",
            "         [0., 0., 0., 0.],\n",
            "         [0., 0., 0., 0.]],\n",
            "\n",
            "        [[0., 0., 0., 0.],\n",
            "         [0., 0., 0., 0.],\n",
            "         [0., 0., 0., 0.]]])\n",
            "tensor([[[1., 1., 1., 1.],\n",
            "         [1., 1., 1., 1.],\n",
            "         [1., 1., 1., 1.],\n",
            "         [0., 0., 0., 0.],\n",
            "         [0., 0., 0., 0.],\n",
            "         [0., 0., 0., 0.]],\n",
            "\n",
            "        [[1., 1., 1., 1.],\n",
            "         [1., 1., 1., 1.],\n",
            "         [1., 1., 1., 1.],\n",
            "         [0., 0., 0., 0.],\n",
            "         [0., 0., 0., 0.],\n",
            "         [0., 0., 0., 0.]]])\n",
            "tensor([[[1., 1., 1., 1.],\n",
            "         [1., 1., 1., 1.],\n",
            "         [1., 1., 1., 1.]],\n",
            "\n",
            "        [[1., 1., 1., 1.],\n",
            "         [1., 1., 1., 1.],\n",
            "         [1., 1., 1., 1.]],\n",
            "\n",
            "        [[0., 0., 0., 0.],\n",
            "         [0., 0., 0., 0.],\n",
            "         [0., 0., 0., 0.]],\n",
            "\n",
            "        [[0., 0., 0., 0.],\n",
            "         [0., 0., 0., 0.],\n",
            "         [0., 0., 0., 0.]]])\n",
            "tensor([[[1., 1., 1., 1.],\n",
            "         [1., 1., 1., 1.],\n",
            "         [1., 1., 1., 1.],\n",
            "         [0., 0., 0., 0.],\n",
            "         [0., 0., 0., 0.],\n",
            "         [0., 0., 0., 0.]],\n",
            "\n",
            "        [[1., 1., 1., 1.],\n",
            "         [1., 1., 1., 1.],\n",
            "         [1., 1., 1., 1.],\n",
            "         [0., 0., 0., 0.],\n",
            "         [0., 0., 0., 0.],\n",
            "         [0., 0., 0., 0.]]])\n",
            "tensor([[[1., 1., 1., 1., 0., 0., 0., 0.],\n",
            "         [1., 1., 1., 1., 0., 0., 0., 0.],\n",
            "         [1., 1., 1., 1., 0., 0., 0., 0.]],\n",
            "\n",
            "        [[1., 1., 1., 1., 0., 0., 0., 0.],\n",
            "         [1., 1., 1., 1., 0., 0., 0., 0.],\n",
            "         [1., 1., 1., 1., 0., 0., 0., 0.]]])\n"
          ]
        }
      ],
      "source": [
        "A=torch.ones((2,3,4))\n",
        "B=torch.zeros((2,3,4))\n",
        "\n",
        "C=torch.vstack([A,B])\n",
        "D=torch.hstack([A,B]) # v는 0번째 차원, h는 1번째 차원에 쌓는다.\n",
        "\n",
        "E=torch.cat([A,B], dim=0)\n",
        "F=torch.cat([A,B], dim=1)\n",
        "G=torch.cat([A,B], dim=2)\n",
        "\n",
        "print(C)\n",
        "print(D)\n",
        "print(E)\n",
        "print(F)\n",
        "print(G)"
      ]
    },
    {
      "cell_type": "code",
      "execution_count": 26,
      "metadata": {
        "colab": {
          "base_uri": "https://localhost:8080/"
        },
        "id": "EOsKnQTvzeAL",
        "outputId": "1ff93612-be52-4586-ca12-df2f096b011b"
      },
      "outputs": [
        {
          "name": "stdout",
          "output_type": "stream",
          "text": [
            "torch.Size([1, 1, 1, 3, 1, 1, 4, 1])\n",
            "torch.Size([3, 4])\n"
          ]
        }
      ],
      "source": [
        "A = torch.randn(1,1,1,3,1,1,4,1)\n",
        "# print(A)\n",
        "print(A.shape)\n",
        "print(A.squeeze().shape)"
      ]
    },
    {
      "cell_type": "code",
      "execution_count": 27,
      "metadata": {
        "colab": {
          "base_uri": "https://localhost:8080/"
        },
        "id": "fgFgG48p02YK",
        "outputId": "6a0405e6-049b-4b0b-d700-ddb139b1e635"
      },
      "outputs": [
        {
          "name": "stdout",
          "output_type": "stream",
          "text": [
            "torch.Size([1, 3, 4])\n",
            "torch.Size([3, 1, 4])\n",
            "torch.Size([3, 4, 1])\n",
            "torch.Size([1, 3, 4])\n",
            "torch.Size([3, 1, 4])\n",
            "torch.Size([3, 4, 1])\n"
          ]
        }
      ],
      "source": [
        "A = torch.randn(3,4)\n",
        "print(A.unsqueeze(dim=0).shape)\n",
        "print(A.unsqueeze(dim=1).shape)\n",
        "print(A.unsqueeze(dim=2).shape)\n",
        "print(A.reshape(1,3,4).shape)\n",
        "print(A.reshape(3,1,4).shape)\n",
        "print(A.reshape(3,4,1).shape)"
      ]
    },
    {
      "cell_type": "code",
      "execution_count": 28,
      "metadata": {
        "colab": {
          "base_uri": "https://localhost:8080/"
        },
        "id": "jG2ZCKHY_O14",
        "outputId": "59259e1f-be41-4f1f-cc66-b5010e579dd4"
      },
      "outputs": [
        {
          "name": "stdout",
          "output_type": "stream",
          "text": [
            "tensor([[[1., 1., 1., 1.],\n",
            "         [1., 1., 1., 1.],\n",
            "         [1., 1., 1., 1.]],\n",
            "\n",
            "        [[0., 0., 0., 0.],\n",
            "         [0., 0., 0., 0.],\n",
            "         [0., 0., 0., 0.]]])\n",
            "torch.Size([2, 3, 4])\n"
          ]
        }
      ],
      "source": [
        "A=torch.ones(3,4)\n",
        "B=torch.zeros(3,4)\n",
        "A=A.unsqueeze(dim=0)\n",
        "B=B.unsqueeze(dim=0)\n",
        "C=torch.cat([A,B], dim=0)\n",
        "print(C)\n",
        "print(C.shape)"
      ]
    },
    {
      "cell_type": "code",
      "execution_count": 29,
      "metadata": {
        "colab": {
          "base_uri": "https://localhost:8080/"
        },
        "id": "0Ns_z6TI_jMm",
        "outputId": "fdd6ea43-8104-47e9-c5b2-9369653af82b"
      },
      "outputs": [
        {
          "name": "stdout",
          "output_type": "stream",
          "text": [
            "tensor([[100,   2],\n",
            "        [  3,   4]])\n",
            "tensor([[1, 2],\n",
            "        [3, 4]])\n"
          ]
        }
      ],
      "source": [
        "A=torch.tensor([[1,2],[3,4]])\n",
        "B=A.clone()\n",
        "B[0,0]=100\n",
        "\n",
        "print(B)\n",
        "print(A)"
      ]
    },
    {
      "cell_type": "markdown",
      "metadata": {
        "id": "KGZoEgEREL3n"
      },
      "source": [
        "## @ 에 대해 좀만 더"
      ]
    },
    {
      "cell_type": "code",
      "execution_count": 30,
      "metadata": {
        "colab": {
          "base_uri": "https://localhost:8080/"
        },
        "id": "_AfML6PD_xxm",
        "outputId": "556cd2e0-a702-4ff8-cf0f-0ec328dc67fa"
      },
      "outputs": [
        {
          "name": "stdout",
          "output_type": "stream",
          "text": [
            "torch.Size([5, 10])\n",
            "torch.Size([32, 5, 10])\n"
          ]
        }
      ],
      "source": [
        "A=torch.randn(5,7)\n",
        "B=torch.randn(7,10)\n",
        "C=A@B\n",
        "print(C.shape)\n",
        "\n",
        "A=torch.randn(32,5,7)\n",
        "B=torch.randn(32,7,10)\n",
        "C=A@B\n",
        "print(C.shape)"
      ]
    },
    {
      "cell_type": "code",
      "execution_count": 31,
      "metadata": {
        "colab": {
          "base_uri": "https://localhost:8080/"
        },
        "id": "lO6wqAoPEsdm",
        "outputId": "3f4b463d-0cd7-4db3-af60-fdc2ca5918ef"
      },
      "outputs": [
        {
          "name": "stdout",
          "output_type": "stream",
          "text": [
            "torch.Size([32, 5, 10])\n",
            "torch.Size([32, 5, 10])\n",
            "tensor(9.5367e-07)\n"
          ]
        }
      ],
      "source": [
        "A=torch.randn(32,5,7)\n",
        "B=torch.randn(7,10)\n",
        "\n",
        "C=A@B.repeat(32,1,1)\n",
        "D=A@B\n",
        "\n",
        "print(C.shape)\n",
        "print(D.shape)\n",
        "print((C-D).abs().max())"
      ]
    },
    {
      "cell_type": "code",
      "execution_count": 32,
      "metadata": {
        "colab": {
          "base_uri": "https://localhost:8080/"
        },
        "id": "wJsuoY1AFTsP",
        "outputId": "bd0f43f8-2442-4a16-a225-6a3c500cc67a"
      },
      "outputs": [
        {
          "name": "stdout",
          "output_type": "stream",
          "text": [
            "tensor([[0.2648, 0.8609, 0.1311],\n",
            "        [0.2895, 0.0844, 0.2622]])\n",
            "tensor([[[[0.2648, 0.8609, 0.1311, 0.2648, 0.8609, 0.1311],\n",
            "          [0.2895, 0.0844, 0.2622, 0.2895, 0.0844, 0.2622],\n",
            "          [0.2648, 0.8609, 0.1311, 0.2648, 0.8609, 0.1311],\n",
            "          [0.2895, 0.0844, 0.2622, 0.2895, 0.0844, 0.2622],\n",
            "          [0.2648, 0.8609, 0.1311, 0.2648, 0.8609, 0.1311],\n",
            "          [0.2895, 0.0844, 0.2622, 0.2895, 0.0844, 0.2622]]],\n",
            "\n",
            "\n",
            "        [[[0.2648, 0.8609, 0.1311, 0.2648, 0.8609, 0.1311],\n",
            "          [0.2895, 0.0844, 0.2622, 0.2895, 0.0844, 0.2622],\n",
            "          [0.2648, 0.8609, 0.1311, 0.2648, 0.8609, 0.1311],\n",
            "          [0.2895, 0.0844, 0.2622, 0.2895, 0.0844, 0.2622],\n",
            "          [0.2648, 0.8609, 0.1311, 0.2648, 0.8609, 0.1311],\n",
            "          [0.2895, 0.0844, 0.2622, 0.2895, 0.0844, 0.2622]]],\n",
            "\n",
            "\n",
            "        [[[0.2648, 0.8609, 0.1311, 0.2648, 0.8609, 0.1311],\n",
            "          [0.2895, 0.0844, 0.2622, 0.2895, 0.0844, 0.2622],\n",
            "          [0.2648, 0.8609, 0.1311, 0.2648, 0.8609, 0.1311],\n",
            "          [0.2895, 0.0844, 0.2622, 0.2895, 0.0844, 0.2622],\n",
            "          [0.2648, 0.8609, 0.1311, 0.2648, 0.8609, 0.1311],\n",
            "          [0.2895, 0.0844, 0.2622, 0.2895, 0.0844, 0.2622]]]])\n",
            "torch.Size([3, 1, 6, 6])\n"
          ]
        }
      ],
      "source": [
        "A = torch.rand(2,3)\n",
        "A_repeat=A.repeat(3,1,3,2)\n",
        "print(A)\n",
        "print(A_repeat)\n",
        "print(A_repeat.shape)"
      ]
    },
    {
      "cell_type": "markdown",
      "metadata": {
        "id": "EFw55VafFpvc"
      },
      "source": [
        "## numpy <-> torch 왔다갔다 가능"
      ]
    },
    {
      "cell_type": "code",
      "execution_count": 33,
      "metadata": {
        "colab": {
          "base_uri": "https://localhost:8080/"
        },
        "id": "llEeZZHQFsgp",
        "outputId": "78f5efa4-b2bf-4b3b-9fad-2b84b885ef8a"
      },
      "outputs": [
        {
          "name": "stdout",
          "output_type": "stream",
          "text": [
            "<class 'torch.Tensor'>\n",
            "<class 'numpy.ndarray'>\n"
          ]
        }
      ],
      "source": [
        "import numpy as np\n",
        "import torch\n",
        "\n",
        "a=np.array([1,2,3])\n",
        "b=torch.tensor([1,2,3])\n",
        "A=torch.tensor(a) # A=torch.from_numpy(a)\n",
        "B=b.numpy() # B=np.array(b)\n",
        "print(type(A))\n",
        "print(type(B))"
      ]
    },
    {
      "cell_type": "markdown",
      "metadata": {
        "id": "tKkt6PjpGMvn"
      },
      "source": [
        "## 딥러닝을 가능케한 autograd"
      ]
    },
    {
      "cell_type": "code",
      "execution_count": 34,
      "metadata": {
        "colab": {
          "base_uri": "https://localhost:8080/"
        },
        "id": "prT2Bx96GOGG",
        "outputId": "2b5e5940-36c2-4546-e6cb-53cce6b350da"
      },
      "outputs": [
        {
          "name": "stdout",
          "output_type": "stream",
          "text": [
            "tensor([1.], requires_grad=True)\n"
          ]
        }
      ],
      "source": [
        "x=torch.tensor([1.], requires_grad=True) # float 이여야해서 1.\n",
        "print(x)"
      ]
    },
    {
      "cell_type": "code",
      "execution_count": 35,
      "metadata": {
        "colab": {
          "base_uri": "https://localhost:8080/"
        },
        "id": "TcjcGFkoGhlm",
        "outputId": "feefecd6-749e-4c37-c220-4d27d2395365"
      },
      "outputs": [
        {
          "name": "stdout",
          "output_type": "stream",
          "text": [
            "tensor([1.])\n",
            "False\n",
            "tensor([1.], requires_grad=True)\n",
            "True\n"
          ]
        }
      ],
      "source": [
        "x=torch.tensor([1.])\n",
        "print(x)\n",
        "print(x.requires_grad)\n",
        "\n",
        "x.requires_grad=True\n",
        "print(x)\n",
        "print(x.requires_grad)"
      ]
    },
    {
      "cell_type": "code",
      "execution_count": 36,
      "metadata": {
        "colab": {
          "base_uri": "https://localhost:8080/"
        },
        "id": "vrOnV1lEGryX",
        "outputId": "ffedd078-5edf-447d-af5d-bcddffb1c37a"
      },
      "outputs": [
        {
          "name": "stdout",
          "output_type": "stream",
          "text": [
            "tensor([1.], grad_fn=<PowBackward0>)\n",
            "None\n",
            "tensor([2.])\n"
          ]
        }
      ],
      "source": [
        "x=torch.tensor([1.], requires_grad=True)\n",
        "y=x**2\n",
        "print(y) # PowBackward0 가 붙어있다!\n",
        "\n",
        "print(x.grad)\n",
        "y.backward()\n",
        "print(x.grad) # y=x**2을 미분한 2x의 x 값에 1을 대입한 gradient 값"
      ]
    },
    {
      "cell_type": "code",
      "execution_count": 37,
      "metadata": {
        "colab": {
          "base_uri": "https://localhost:8080/"
        },
        "id": "37iwYRZhHvPg",
        "outputId": "e23e9dd2-eae3-467d-fbb6-922b427cbdb4"
      },
      "outputs": [
        {
          "name": "stdout",
          "output_type": "stream",
          "text": [
            "tensor([1.], grad_fn=<PowBackward0>)\n",
            "tensor([3.], grad_fn=<MulBackward0>)\n",
            "tensor([6.])\n"
          ]
        }
      ],
      "source": [
        "x=torch.tensor([1.], requires_grad=True)\n",
        "y=x**2\n",
        "print(y)\n",
        "# y.retain_grad() # 이걸 하면 y.grad도 볼 수 있다\n",
        "\n",
        "z=3*y\n",
        "print(z) # MulBackward0 가 붙어있다!\n",
        "\n",
        "z.backward()\n",
        "print(x.grad) # chain rule로 알아냄\n",
        "# print(y.grad) # warning! 중간건 안된다"
      ]
    },
    {
      "cell_type": "code",
      "execution_count": 38,
      "metadata": {
        "colab": {
          "base_uri": "https://localhost:8080/"
        },
        "id": "uTmUpkNMJMa2",
        "outputId": "4e9aca93-26d0-4ba1-b246-df6144885968"
      },
      "outputs": [
        {
          "name": "stdout",
          "output_type": "stream",
          "text": [
            "tensor([2.])\n"
          ]
        }
      ],
      "source": [
        "x=torch.tensor([1.], requires_grad=True)\n",
        "y=x**2\n",
        "z=3*y\n",
        "\n",
        "y.backward() # 이렇게하면 y에서부터 뒤로 넘어감 (backward!)\n",
        "print(x.grad)"
      ]
    },
    {
      "cell_type": "code",
      "execution_count": 39,
      "metadata": {
        "colab": {
          "base_uri": "https://localhost:8080/"
        },
        "id": "uXGWg878JVeu",
        "outputId": "e18f32ae-af71-4702-b7de-12338c3f1eb1"
      },
      "outputs": [
        {
          "name": "stdout",
          "output_type": "stream",
          "text": [
            "tensor([2.], grad_fn=<AddBackward0>)\n",
            "tensor([8.])\n"
          ]
        }
      ],
      "source": [
        "x=torch.tensor([1.], requires_grad=True)\n",
        "a=x**2\n",
        "b=a+1\n",
        "print(b) # AddBackward0 가 붙어있다!\n",
        "c=b**2\n",
        "c.backward()\n",
        "print(x.grad)"
      ]
    },
    {
      "cell_type": "code",
      "execution_count": 40,
      "metadata": {
        "colab": {
          "base_uri": "https://localhost:8080/"
        },
        "id": "4-H9POSyKGoe",
        "outputId": "50d9c1ce-a874-4da8-a58f-695ea506b52b"
      },
      "outputs": [
        {
          "name": "stdout",
          "output_type": "stream",
          "text": [
            "tensor([3.], grad_fn=<AddBackward0>)\n",
            "tensor([4.])\n",
            "tensor([2.])\n"
          ]
        }
      ],
      "source": [
        "x=torch.tensor([1.],requires_grad=True)\n",
        "y=torch.tensor([1.],requires_grad=True)\n",
        "z= 2*x**2 + y**2\n",
        "print(z)\n",
        "z.backward()\n",
        "print(x.grad)\n",
        "print(y.grad)"
      ]
    },
    {
      "cell_type": "code",
      "execution_count": 41,
      "metadata": {
        "colab": {
          "base_uri": "https://localhost:8080/"
        },
        "id": "-CLo7GtDKZYP",
        "outputId": "7e79d89c-dae8-4788-823a-aa82926081e5"
      },
      "outputs": [
        {
          "name": "stdout",
          "output_type": "stream",
          "text": [
            "tensor([2.])\n",
            "tensor([1.])\n"
          ]
        }
      ],
      "source": [
        "x=torch.tensor([1.],requires_grad=True)\n",
        "y=torch.tensor([1.],requires_grad=True)\n",
        "z= y*x**2\n",
        "z.backward()\n",
        "print(x.grad)\n",
        "print(y.grad)"
      ]
    },
    {
      "cell_type": "code",
      "execution_count": 42,
      "metadata": {
        "colab": {
          "base_uri": "https://localhost:8080/"
        },
        "id": "OcwjW_rHKaQY",
        "outputId": "90d7ce64-8dfa-4939-91a4-76f7923b3189"
      },
      "outputs": [
        {
          "name": "stdout",
          "output_type": "stream",
          "text": [
            "tensor(14., grad_fn=<SumBackward0>)\n",
            "tensor([2., 4., 6.])\n"
          ]
        }
      ],
      "source": [
        "x=torch.tensor([1., 2., 3.] ,requires_grad=True)\n",
        "y=torch.sum(x**2) # x1**2 + x2**2 + x3**2\n",
        "y.backward()\n",
        "\n",
        "print(y)\n",
        "print(x.grad) # 스칼라를 벡터로 미분"
      ]
    },
    {
      "cell_type": "code",
      "execution_count": 43,
      "metadata": {
        "colab": {
          "base_uri": "https://localhost:8080/"
        },
        "id": "OnA1FrLgKtHU",
        "outputId": "120113e4-6660-41ae-c25e-10dd1e795425"
      },
      "outputs": [
        {
          "name": "stdout",
          "output_type": "stream",
          "text": [
            "tensor([1.])\n"
          ]
        }
      ],
      "source": [
        "x=torch.tensor([1.] ,requires_grad=True)\n",
        "x.requires_grad=False\n",
        "# tranfer learning 할 때 필요\n",
        "y=x**2\n",
        "print(y)\n",
        "# y.backward() # error!"
      ]
    },
    {
      "cell_type": "code",
      "execution_count": 44,
      "metadata": {
        "colab": {
          "base_uri": "https://localhost:8080/"
        },
        "id": "3IkS-TBZK7oH",
        "outputId": "5538d184-3ecb-40c0-ebd4-0534d112a79f"
      },
      "outputs": [
        {
          "name": "stdout",
          "output_type": "stream",
          "text": [
            "tensor([2.])\n",
            "tensor([4.])\n"
          ]
        }
      ],
      "source": [
        "x=torch.tensor([2.] ,requires_grad=True)\n",
        "x=x.detach() # detach도 많이 쓰이는 듯\n",
        "print(x)\n",
        "y=x**2\n",
        "print(y)"
      ]
    },
    {
      "cell_type": "code",
      "execution_count": 45,
      "metadata": {
        "colab": {
          "base_uri": "https://localhost:8080/"
        },
        "id": "PyN_3wAULp-_",
        "outputId": "310d7bf2-ad14-4142-8999-e33234100c97"
      },
      "outputs": [
        {
          "name": "stdout",
          "output_type": "stream",
          "text": [
            "True\n",
            "tensor([1.])\n",
            "True\n",
            "tensor([1.], grad_fn=<PowBackward0>)\n",
            "False\n",
            "tensor([1.])\n"
          ]
        }
      ],
      "source": [
        "# detach 와 torch.no_grad\n",
        "x=torch.tensor([1.], requires_grad=True)\n",
        "# chain rule을 위해 계속 grad_fu을 update 하니까 grad_fn 잠시 안 계산하고 싶을 때 torch.no_grad\n",
        "# 모델 테스트 시에는 불필요하게 메모리 쓸 필요 없기 때문!\n",
        "with torch.no_grad():\n",
        "    y=x**2\n",
        "    print(x.requires_grad)\n",
        "    print(y)\n",
        "print(x.requires_grad)\n",
        "# y.backward() # error!\n",
        "y=x**2\n",
        "print(y)\n",
        "\n",
        "x=torch.tensor([1.], requires_grad=True)\n",
        "x=x.detach()\n",
        "y = x**2\n",
        "print(x.requires_grad)\n",
        "print(y)\n",
        "# y.backward() # error!"
      ]
    },
    {
      "cell_type": "code",
      "execution_count": 46,
      "metadata": {
        "colab": {
          "base_uri": "https://localhost:8080/",
          "height": 213
        },
        "id": "XZ-1KlfUMp5v",
        "outputId": "1eedc294-21ce-4f41-80e3-d589a917d7b8"
      },
      "outputs": [
        {
          "ename": "NameError",
          "evalue": "name 'make_dot' is not defined",
          "output_type": "error",
          "traceback": [
            "\u001b[0;31m---------------------------------------------------------------------------\u001b[0m",
            "\u001b[0;31mNameError\u001b[0m                                 Traceback (most recent call last)",
            "Cell \u001b[0;32mIn[46], line 7\u001b[0m\n\u001b[1;32m      3\u001b[0m x\u001b[39m=\u001b[39mtorch\u001b[39m.\u001b[39mtensor([\u001b[39m1.\u001b[39m, \u001b[39m2.\u001b[39m],requires_grad\u001b[39m=\u001b[39m\u001b[39mTrue\u001b[39;00m)\n\u001b[1;32m      4\u001b[0m \u001b[39m# make_dot(x)\u001b[39;00m\n\u001b[1;32m      5\u001b[0m \u001b[39m# make_dot(x**2)\u001b[39;00m\n\u001b[1;32m      6\u001b[0m \u001b[39m# make_dot(x**2+1)\u001b[39;00m\n\u001b[0;32m----> 7\u001b[0m make_dot((x\u001b[39m*\u001b[39m\u001b[39m*\u001b[39m\u001b[39m2\u001b[39m\u001b[39m+\u001b[39m\u001b[39m1\u001b[39m)\u001b[39m*\u001b[39m\u001b[39m*\u001b[39m\u001b[39m2\u001b[39m)\n",
            "\u001b[0;31mNameError\u001b[0m: name 'make_dot' is not defined"
          ]
        }
      ],
      "source": [
        "# !pip install torchviz\n",
        "# from torchviz import make_dot\n",
        "x=torch.tensor([1., 2.],requires_grad=True)\n",
        "# make_dot(x)\n",
        "# make_dot(x**2)\n",
        "# make_dot(x**2+1)\n",
        "make_dot((x**2+1)**2)"
      ]
    },
    {
      "cell_type": "markdown",
      "metadata": {
        "id": "_msxA-KpwUU6"
      },
      "source": [
        "## 간단한 인공신경망 만들기"
      ]
    },
    {
      "cell_type": "code",
      "execution_count": 4,
      "metadata": {},
      "outputs": [
        {
          "name": "stdout",
          "output_type": "stream",
          "text": [
            "Parameter containing:\n",
            "tensor([[-0.9534]], requires_grad=True)\n",
            "Parameter containing:\n",
            "tensor([-0.6698], requires_grad=True)\n",
            "1 Parameter containing:\n",
            "tensor([[ 0.3641],\n",
            "        [-0.8798],\n",
            "        [ 0.2725]], requires_grad=True)\n",
            "1 Parameter containing:\n",
            "tensor([-0.1013,  0.3389,  0.2886], requires_grad=True)\n",
            "2 Parameter containing:\n",
            "tensor([[-0.3414,  0.4921, -0.4435]], requires_grad=True)\n",
            "2 Parameter containing:\n",
            "tensor([0.3223], requires_grad=True)\n"
          ]
        }
      ],
      "source": [
        "import torch\n",
        "from torch import nn\n",
        "\n",
        "x = torch.tensor([1.])\n",
        "model = nn.Linear(1, 1) # 입력 node 한 개, 출력 node 한 개인 layer 만들기\n",
        "\n",
        "print(model.weight)\n",
        "print(model.bias)\n",
        "\n",
        "fc1 = nn.Linear(1, 3)\n",
        "fc2 = nn.Linear(3, 1)\n",
        "\n",
        "print('1' , fc1.weight)\n",
        "print('1', fc1.bias)\n",
        "\n",
        "print('2', fc2.weight)\n",
        "print('2', fc2.bias)"
      ]
    },
    {
      "cell_type": "code",
      "execution_count": 47,
      "metadata": {
        "colab": {
          "base_uri": "https://localhost:8080/"
        },
        "id": "4EtybuRhwXvc",
        "outputId": "68585abf-8e67-44b2-d02c-9cf210e67c85"
      },
      "outputs": [
        {
          "name": "stdout",
          "output_type": "stream",
          "text": [
            "Parameter containing:\n",
            "tensor([[-0.8642]], requires_grad=True)\n",
            "Parameter containing:\n",
            "tensor([-0.9483], requires_grad=True)\n",
            "tensor([-1.8125], grad_fn=<AddBackward0>)\n",
            "tensor([-1.8125], grad_fn=<AddBackward0>)\n"
          ]
        }
      ],
      "source": [
        "import torch\n",
        "from torch import nn\n",
        "\n",
        "x=torch.tensor([1.])\n",
        "model = nn.Linear(1,1) # 입력 node 한 개, 출력 node 한 개인 layer 만듦\n",
        "\n",
        "print(model.weight) # 만들면서 initialize 함\n",
        "print(model.bias)\n",
        "\n",
        "y = model(x)\n",
        "print(y)\n",
        "\n",
        "y = x @ model.weight + model.bias\n",
        "print(y)"
      ]
    },
    {
      "cell_type": "code",
      "execution_count": null,
      "metadata": {
        "colab": {
          "base_uri": "https://localhost:8080/"
        },
        "id": "tbvik3R0yAYL",
        "outputId": "f76e5e9f-64bf-47bc-ee98-f56e1613dabe"
      },
      "outputs": [
        {
          "name": "stdout",
          "output_type": "stream",
          "text": [
            "Parameter containing:\n",
            "tensor([[0.7723],\n",
            "        [0.8549],\n",
            "        [0.9242]], requires_grad=True)\n",
            "Parameter containing:\n",
            "tensor([ 0.7878, -0.9535, -0.4586], requires_grad=True)\n",
            "Parameter containing:\n",
            "tensor([[-0.3404, -0.2877,  0.3690]], requires_grad=True)\n",
            "Parameter containing:\n",
            "tensor([-0.1028], requires_grad=True)\n",
            "tensor([ 1.5601, -0.0986,  0.4656], grad_fn=<AddBackward0>)\n",
            "tensor([-0.4337], grad_fn=<AddBackward0>)\n",
            "tensor([-0.4337], grad_fn=<AddBackward0>)\n"
          ]
        }
      ],
      "source": [
        "fc1 = nn.Linear(1,3) # fully-connected\n",
        "fc2 = nn.Linear(3,1)\n",
        "\n",
        "print(fc1.weight)\n",
        "print(fc1.bias)\n",
        "print(fc2.weight)\n",
        "print(fc2.bias)\n",
        "\n",
        "x=torch.tensor([1.])\n",
        "x=fc1(x)\n",
        "print(x)\n",
        "x=fc2(x)\n",
        "print(x)\n",
        "\n",
        "x=torch.tensor([1.])\n",
        "y = (x@fc1.weight.T+fc1.bias)@fc2.weight.T+fc2.bias\n",
        "# nn.Linear 는 개x채x행x열에서 \"채\" 형태로 (1D data) 들어오길 기대하는 녀석이다.\n",
        "# 즉, 노드 하나가 곧 한 채널의 의미한다.\n",
        "# 따라서, 데이터 여러개를 통과시키고 싶다면 개x채 의 형태로 줘야 함\n",
        "# why T? weight도 개x채 형태로 만들기 위함!\n",
        "# 일단, weight shape 개x채에서 채는 무조건 앞에 거 채널 개수와 맞추셈!\n",
        "# 예를 들어, nn.Linear(2,3) 이면 앞에거 채널 개수는 2 따라서 ?x2 인데\n",
        "# 두 채널 값을 가지고 3개의 노드를 만드는 거라서 3x2 가 된다!\n",
        "\n",
        "print(y)\n",
        "# input size: 1\n",
        "# fc1.weight.T size: 1x3\n",
        "# fc1.bias size: 3\n",
        "# fc2.weight.T size: 3x1\n",
        "# fc2.bias size: 1"
      ]
    },
    {
      "cell_type": "code",
      "execution_count": null,
      "metadata": {
        "colab": {
          "base_uri": "https://localhost:8080/"
        },
        "id": "xURqkIyQ4LB7",
        "outputId": "d1aacd3b-7a41-4f95-d1c3-056bff6e14be"
      },
      "outputs": [
        {
          "name": "stdout",
          "output_type": "stream",
          "text": [
            "tensor([ 0.1443,  1.7302, -0.6704], grad_fn=<AddBackward0>)\n",
            "tensor([-0.8868], grad_fn=<AddBackward0>)\n",
            "tensor([-0.8868], grad_fn=<AddBackward0>)\n"
          ]
        }
      ],
      "source": [
        "fc1 = nn.Linear(1,3)\n",
        "fc2 = nn.Linear(3,1)\n",
        "\n",
        "x=torch.tensor([1.])\n",
        "x=fc1(x)\n",
        "print(x)\n",
        "x=fc2(x)\n",
        "print(x)\n",
        "\n",
        "model = nn.Sequential(fc1, fc2) # layer 풀칠\n",
        "x=torch.tensor([1.])\n",
        "print(model(x))"
      ]
    },
    {
      "cell_type": "code",
      "execution_count": null,
      "metadata": {
        "colab": {
          "base_uri": "https://localhost:8080/"
        },
        "id": "10eOxDlO4ssy",
        "outputId": "2e8dfa26-fb46-4e01-f878-9f09dff5b5c6"
      },
      "outputs": [
        {
          "name": "stdout",
          "output_type": "stream",
          "text": [
            "tensor([-0.2115, -1.6457])\n",
            "tensor([0.5339, 0.5663, 0.4219], grad_fn=<AddBackward0>)\n",
            "tensor([[1.1064, 0.4146]])\n",
            "tensor([[-0.1059, -0.0736,  0.6442]], grad_fn=<AddmmBackward0>)\n",
            "tensor([[ 0.7434, -0.2427],\n",
            "        [-0.4870, -0.8473],\n",
            "        [ 0.4725,  0.1137],\n",
            "        [-1.1611, -0.3709],\n",
            "        [-0.5012, -1.5173]])\n",
            "tensor([[0.0809, 0.1192, 0.5892],\n",
            "        [0.5228, 0.4744, 0.2909],\n",
            "        [0.1205, 0.1075, 0.4898],\n",
            "        [0.6698, 0.5209, 0.0719],\n",
            "        [0.6060, 0.6002, 0.3330]], grad_fn=<AddmmBackward0>)\n",
            "torch.Size([2, 3, 1, 4, 5, 3])\n"
          ]
        }
      ],
      "source": [
        "model = nn.Sequential(nn.Linear(2,5), # 여기는 채,채\n",
        "                      nn.Linear(5,10),\n",
        "                      nn.Linear(10,3))\n",
        "\n",
        "x=torch.randn(2)\n",
        "print(x)\n",
        "print(model(x))\n",
        "\n",
        "x=torch.randn(1,2)\n",
        "print(x)\n",
        "print(model(x))\n",
        "\n",
        "x=torch.randn(5,2) # 개x채 => 두 개의 채널 값(키, 몸무게)을 가지는 데이터(사람) 5개를 통과시킴\n",
        "print(x)\n",
        "print(model(x))\n",
        "\n",
        "x=torch.randn(2,3,1,4,5,2)\n",
        "print(model(x).shape)"
      ]
    },
    {
      "cell_type": "code",
      "execution_count": 6,
      "metadata": {},
      "outputs": [
        {
          "name": "stdout",
          "output_type": "stream",
          "text": [
            "tensor([[0.5012, 0.5274, 0.4322],\n",
            "        [0.5040, 0.5292, 0.4290],\n",
            "        [0.5038, 0.5285, 0.4314],\n",
            "        [0.4948, 0.5270, 0.4262],\n",
            "        [0.5001, 0.5262, 0.4369]], grad_fn=<SigmoidBackward0>)\n"
          ]
        }
      ],
      "source": [
        "class MyModel(nn.Module):\n",
        "    def __init__(self):\n",
        "        super().__init__()\n",
        "        \n",
        "        self.fc1 = nn.Linear(2, 5)\n",
        "        self.fc2 = nn.Linear(5, 10)\n",
        "        self.fc3 = nn.Linear(10, 3)\n",
        "        \n",
        "        self.sig1 = nn.Sigmoid()\n",
        "        self.sig2 = nn.Sigmoid()\n",
        "        self.sig3 = nn.Sigmoid()\n",
        "        \n",
        "    def forward(self, x):\n",
        "        x = self.fc1(x)\n",
        "        x = self.sig1(x)\n",
        "        \n",
        "        x = self.fc2(x)\n",
        "        x = self.sig2(x)\n",
        "        \n",
        "        x = self.fc3(x)\n",
        "        x = self.sig3(x)        \n",
        "        return x\n",
        "    \n",
        "model = MyModel()\n",
        "x = torch.randn(5,2)\n",
        "y = model(x)\n",
        "print(y)"
      ]
    },
    {
      "cell_type": "code",
      "execution_count": 7,
      "metadata": {
        "colab": {
          "base_uri": "https://localhost:8080/"
        },
        "id": "IKM2Ghae6s6N",
        "outputId": "71351acf-f8a2-40aa-d123-4dd3f1e5502d"
      },
      "outputs": [
        {
          "name": "stdout",
          "output_type": "stream",
          "text": [
            "tensor([[0.7183, 0.5138, 0.5413],\n",
            "        [0.7189, 0.5168, 0.5416],\n",
            "        [0.7182, 0.5137, 0.5417],\n",
            "        [0.7173, 0.5091, 0.5409],\n",
            "        [0.7175, 0.5111, 0.5431]], grad_fn=<SigmoidBackward0>)\n",
            "MyModel(\n",
            "  (fc1): Linear(in_features=2, out_features=5, bias=True)\n",
            "  (fc2): Linear(in_features=5, out_features=10, bias=True)\n",
            "  (fc3): Linear(in_features=10, out_features=3, bias=True)\n",
            "  (sig1): Sigmoid()\n",
            "  (sig2): Sigmoid()\n",
            "  (sig3): Sigmoid()\n",
            ")\n"
          ]
        }
      ],
      "source": [
        "class MyModel(nn.Module):\n",
        "    def __init__(self):\n",
        "        super().__init__()\n",
        "\n",
        "        self.fc1 = nn.Linear(2,5)\n",
        "        self.fc2 = nn.Linear(5,10)\n",
        "        self.fc3 = nn.Linear(10,3)\n",
        "        self.sig1 = nn.Sigmoid()\n",
        "        self.sig2 = nn.Sigmoid()\n",
        "        self.sig3 = nn.Sigmoid()\n",
        "\n",
        "    def forward(self, x):\n",
        "        x = self.fc1(x)\n",
        "        x = self.sig1(x)\n",
        "        x = self.fc2(x)\n",
        "        x = self.sig2(x)\n",
        "        x = self.fc3(x)\n",
        "        x = self.sig3(x)\n",
        "        return x\n",
        "\n",
        "model = MyModel()\n",
        "x = torch.randn(5,2)\n",
        "y = model(x)\n",
        "print(y)\n",
        "\n",
        "print(model)"
      ]
    },
    {
      "cell_type": "code",
      "execution_count": 14,
      "metadata": {},
      "outputs": [
        {
          "name": "stdout",
          "output_type": "stream",
          "text": [
            "tensor([[0.4448, 0.5583, 0.5691],\n",
            "        [0.4443, 0.5596, 0.5707],\n",
            "        [0.4448, 0.5596, 0.5687],\n",
            "        [0.4432, 0.5706, 0.5665],\n",
            "        [0.4440, 0.5678, 0.5653]], grad_fn=<SigmoidBackward0>)\n",
            "MyModel(\n",
            "  (fc1): Linear(in_features=2, out_features=5, bias=True)\n",
            "  (fc2): Linear(in_features=5, out_features=10, bias=True)\n",
            "  (fc3): Linear(in_features=10, out_features=3, bias=True)\n",
            "  (sig1): Sigmoid()\n",
            "  (sig2): Sigmoid()\n",
            "  (sig3): Sigmoid()\n",
            "  (linear): Sequential(\n",
            "    (0): Linear(in_features=2, out_features=5, bias=True)\n",
            "    (1): Sigmoid()\n",
            "    (2): Linear(in_features=5, out_features=10, bias=True)\n",
            "    (3): Sigmoid()\n",
            "    (4): Linear(in_features=10, out_features=3, bias=True)\n",
            "    (5): Sigmoid()\n",
            "  )\n",
            ")\n"
          ]
        }
      ],
      "source": [
        "class MyModel(nn.Module):\n",
        "    def __init__(self):\n",
        "        super().__init__()\n",
        "\n",
        "        self.fc1 = nn.Linear(2,5)\n",
        "        self.fc2 = nn.Linear(5,10)\n",
        "        self.fc3 = nn.Linear(10,3)\n",
        "        self.sig1 = nn.Sigmoid()\n",
        "        self.sig2 = nn.Sigmoid()\n",
        "        self.sig3 = nn.Sigmoid()\n",
        "\n",
        "        self.linear = nn.Sequential(self.fc1, self.sig1, self.fc2, self.sig2, self.fc3, self.sig3)\n",
        "\n",
        "    def forward(self, x):\n",
        "        x = self.linear(x)\n",
        "        return x\n",
        "    \n",
        "model = MyModel()\n",
        "x = torch.randn(5,2)\n",
        "y = model(x)\n",
        "print(y)\n",
        "\n",
        "print(model)"
      ]
    },
    {
      "cell_type": "code",
      "execution_count": 15,
      "metadata": {},
      "outputs": [
        {
          "data": {
            "text/plain": [
              "[Parameter containing:\n",
              " tensor([[-0.4218,  0.6093],\n",
              "         [ 0.4592, -0.5893],\n",
              "         [-0.0871,  0.1680],\n",
              "         [-0.5685,  0.0893],\n",
              "         [-0.6980,  0.1494]], requires_grad=True),\n",
              " Parameter containing:\n",
              " tensor([ 0.1339, -0.6308,  0.2007, -0.6867, -0.4656], requires_grad=True),\n",
              " Parameter containing:\n",
              " tensor([[ 0.3040,  0.1403,  0.2546,  0.3048, -0.0540],\n",
              "         [ 0.2061, -0.2994, -0.3473, -0.2330,  0.4443],\n",
              "         [-0.2467,  0.0047, -0.2847, -0.3106, -0.0751],\n",
              "         [-0.2370, -0.2876, -0.2107,  0.0273, -0.0462],\n",
              "         [ 0.3033, -0.0088,  0.2316, -0.0278, -0.2794],\n",
              "         [-0.1726, -0.0897, -0.3795,  0.2602,  0.3932],\n",
              "         [-0.1954, -0.3824, -0.2151,  0.1923,  0.4264],\n",
              "         [-0.0387, -0.3015, -0.1206,  0.3032,  0.3487],\n",
              "         [-0.4204,  0.3652, -0.2802, -0.1673,  0.1967],\n",
              "         [-0.1810,  0.3644,  0.1516,  0.0798, -0.3035]], requires_grad=True),\n",
              " Parameter containing:\n",
              " tensor([-0.2927,  0.3361, -0.1953, -0.2058, -0.3700,  0.0729,  0.2255, -0.0234,\n",
              "          0.4081,  0.1825], requires_grad=True),\n",
              " Parameter containing:\n",
              " tensor([[-0.2936,  0.0761,  0.1471, -0.2597, -0.2169,  0.0349,  0.1649, -0.2432,\n",
              "          -0.2702, -0.1146],\n",
              "         [ 0.0783, -0.1571,  0.2323, -0.0667, -0.0609,  0.1716,  0.0519, -0.2042,\n",
              "           0.0394,  0.1815],\n",
              "         [ 0.1494, -0.0398,  0.1195, -0.1196, -0.2754,  0.1026, -0.1053,  0.2933,\n",
              "          -0.0577,  0.0737]], requires_grad=True),\n",
              " Parameter containing:\n",
              " tensor([0.2598, 0.1568, 0.1770], requires_grad=True)]"
            ]
          },
          "execution_count": 15,
          "metadata": {},
          "output_type": "execute_result"
        }
      ],
      "source": [
        "list(model.parameters())"
      ]
    },
    {
      "cell_type": "code",
      "execution_count": 10,
      "metadata": {
        "colab": {
          "base_uri": "https://localhost:8080/"
        },
        "id": "AhbpzSze-G6n",
        "outputId": "ae0e2ac2-9a7e-4b36-fc9d-0abfca12a39e"
      },
      "outputs": [
        {
          "name": "stdout",
          "output_type": "stream",
          "text": [
            "MyModel(\n",
            "  (fc1): Linear(in_features=2, out_features=5, bias=True)\n",
            "  (fc2): Linear(in_features=5, out_features=10, bias=True)\n",
            "  (fc3): Linear(in_features=10, out_features=3, bias=True)\n",
            "  (sig1): Sigmoid()\n",
            "  (sig2): Sigmoid()\n",
            "  (sig3): Sigmoid()\n",
            ")\n",
            "Parameter containing:\n",
            "tensor([[ 0.6296, -0.3819],\n",
            "        [-0.0243, -0.2920],\n",
            "        [ 0.0700, -0.4534],\n",
            "        [-0.0839,  0.1845],\n",
            "        [-0.1553,  0.1148]], requires_grad=True)\n",
            "Parameter containing:\n",
            "tensor([ 0.2208, -0.3960, -0.1305, -0.3380,  0.2226, -0.3816,  0.3645,  0.0415,\n",
            "         0.2662, -0.2441], requires_grad=True)\n"
          ]
        }
      ],
      "source": [
        "print(model)\n",
        "print(model.fc1.weight)\n",
        "print(model.fc2.bias)"
      ]
    },
    {
      "cell_type": "code",
      "execution_count": 16,
      "metadata": {
        "colab": {
          "base_uri": "https://localhost:8080/"
        },
        "id": "QoS0WARp-bEr",
        "outputId": "5b3e71f1-c160-4b85-b28a-c243a0970c3e"
      },
      "outputs": [
        {
          "name": "stdout",
          "output_type": "stream",
          "text": [
            "tensor([[0.6899, 0.4923, 0.5152],\n",
            "        [0.6932, 0.4950, 0.5105],\n",
            "        [0.6937, 0.4910, 0.5113],\n",
            "        [0.6892, 0.4963, 0.5147],\n",
            "        [0.6903, 0.4930, 0.5145]], grad_fn=<SigmoidBackward0>)\n"
          ]
        }
      ],
      "source": [
        "class MyModel2(nn.Module):\n",
        "    def __init__(self):\n",
        "        super().__init__()\n",
        "        self.linear = nn.Sequential(\n",
        "            nn.Linear(2,5),\n",
        "            nn.Sigmoid(),\n",
        "            nn.Linear(5,10),\n",
        "            nn.Sigmoid(),\n",
        "            nn.Linear(10,3),\n",
        "            nn.Sigmoid())\n",
        "        \n",
        "    def forward(self,x):\n",
        "        x = self.linear(x)\n",
        "        return x\n",
        "\n",
        "model2 = MyModel2()\n",
        "x = torch.randn(5,2)\n",
        "y = model2(x)\n",
        "print(y)"
      ]
    },
    {
      "cell_type": "code",
      "execution_count": 17,
      "metadata": {},
      "outputs": [
        {
          "name": "stdout",
          "output_type": "stream",
          "text": [
            "MyModel2(\n",
            "  (linear): Sequential(\n",
            "    (0): Linear(in_features=2, out_features=5, bias=True)\n",
            "    (1): Sigmoid()\n",
            "    (2): Linear(in_features=5, out_features=10, bias=True)\n",
            "    (3): Sigmoid()\n",
            "    (4): Linear(in_features=10, out_features=3, bias=True)\n",
            "    (5): Sigmoid()\n",
            "  )\n",
            ")\n"
          ]
        }
      ],
      "source": [
        "print(model2)"
      ]
    },
    {
      "cell_type": "code",
      "execution_count": null,
      "metadata": {
        "colab": {
          "base_uri": "https://localhost:8080/"
        },
        "id": "YQPswPA2_I38",
        "outputId": "5a5c4ca9-8cda-4937-8c58-00215bc566be"
      },
      "outputs": [
        {
          "name": "stdout",
          "output_type": "stream",
          "text": [
            "MyModel2(\n",
            "  (linear): Sequential(\n",
            "    (0): Linear(in_features=2, out_features=5, bias=True)\n",
            "    (1): Sigmoid()\n",
            "    (2): Linear(in_features=5, out_features=10, bias=True)\n",
            "    (3): Sigmoid()\n",
            "    (4): Linear(in_features=10, out_features=3, bias=True)\n",
            "    (5): Sigmoid()\n",
            "  )\n",
            ")\n",
            "Parameter containing:\n",
            "tensor([[ 0.5882, -0.1803],\n",
            "        [-0.3234,  0.6736],\n",
            "        [ 0.1816, -0.3730],\n",
            "        [-0.5313,  0.1610],\n",
            "        [-0.2035, -0.4490]], requires_grad=True)\n",
            "Parameter containing:\n",
            "tensor([-0.2463, -0.3069, -0.2348], requires_grad=True)\n"
          ]
        }
      ],
      "source": [
        "print(model2)\n",
        "print(model2.linear[0].weight)\n",
        "print(model2.linear[-2].bias)"
      ]
    },
    {
      "cell_type": "code",
      "execution_count": null,
      "metadata": {
        "colab": {
          "base_uri": "https://localhost:8080/"
        },
        "id": "NkwWghuuAUrz",
        "outputId": "c8c3f3bb-f96b-422c-acf2-3891251ce225"
      },
      "outputs": [
        {
          "data": {
            "text/plain": [
              "[Parameter containing:\n",
              " tensor([[-0.1498, -0.1774],\n",
              "         [-0.1540,  0.5480],\n",
              "         [ 0.3895,  0.4730],\n",
              "         [-0.0553,  0.5704],\n",
              "         [-0.4322, -0.5768]], requires_grad=True), Parameter containing:\n",
              " tensor([ 0.5022, -0.5783,  0.3279, -0.1828, -0.2740], requires_grad=True), Parameter containing:\n",
              " tensor([[-1.9592e-04, -3.1074e-01,  9.8688e-02,  1.2608e-02, -4.2887e-01],\n",
              "         [-3.2016e-02, -3.8420e-01,  1.4005e-01, -3.2193e-02,  1.2688e-01],\n",
              "         [ 1.2562e-01,  8.4013e-02, -1.1773e-01, -8.5302e-02, -4.4347e-01],\n",
              "         [-2.7976e-01, -2.8719e-02,  2.8292e-01,  4.1799e-02,  2.8570e-04],\n",
              "         [ 4.2156e-02, -2.9544e-01,  3.6284e-01,  3.5578e-01,  1.2462e-01],\n",
              "         [ 3.2279e-01, -3.6989e-01,  2.4944e-01, -1.2068e-01,  1.9016e-01],\n",
              "         [-3.7973e-02, -3.1601e-01, -1.2153e-01, -4.4226e-01, -2.3349e-01],\n",
              "         [ 3.4167e-01, -1.0767e-01, -2.7544e-01,  2.1396e-01,  2.2648e-01],\n",
              "         [ 5.5263e-02, -3.7972e-02, -2.7386e-01,  2.4645e-01, -2.9669e-01],\n",
              "         [ 2.2193e-01, -6.5834e-02, -1.8236e-01,  3.0235e-01,  2.1629e-01]],\n",
              "        requires_grad=True), Parameter containing:\n",
              " tensor([ 0.2966,  0.1743, -0.3898, -0.2966, -0.0614, -0.4197,  0.0460,  0.2574,\n",
              "          0.0189, -0.4241], requires_grad=True), Parameter containing:\n",
              " tensor([[-0.1131, -0.0645, -0.1332,  0.1049, -0.0229,  0.0032, -0.1331,  0.0100,\n",
              "           0.2498, -0.1197],\n",
              "         [-0.0147, -0.2343,  0.0477,  0.0635,  0.0654,  0.0489, -0.0297,  0.2492,\n",
              "          -0.0986, -0.2913],\n",
              "         [-0.2840, -0.3084, -0.1185,  0.2781, -0.3138,  0.0343, -0.1931, -0.1857,\n",
              "           0.0319, -0.1245]], requires_grad=True), Parameter containing:\n",
              " tensor([ 0.3131, -0.0047, -0.0516], requires_grad=True)]"
            ]
          },
          "execution_count": 46,
          "metadata": {},
          "output_type": "execute_result"
        }
      ],
      "source": [
        "list(model.parameters())"
      ]
    },
    {
      "cell_type": "code",
      "execution_count": null,
      "metadata": {
        "colab": {
          "base_uri": "https://localhost:8080/"
        },
        "id": "5HHbUV0YAhhE",
        "outputId": "07cf5143-1063-4d69-fe90-223a26ea7f2f"
      },
      "outputs": [
        {
          "name": "stdout",
          "output_type": "stream",
          "text": [
            "108\n"
          ]
        }
      ],
      "source": [
        "# 파라미터 수 구하기\n",
        "num = sum([p.numel() for p in model.parameters() if p.requires_grad])\n",
        "print(num)"
      ]
    },
    {
      "cell_type": "markdown",
      "metadata": {
        "id": "IZ3eiZ33A02z"
      },
      "source": [
        "## weight initialization"
      ]
    },
    {
      "cell_type": "code",
      "execution_count": null,
      "metadata": {
        "id": "NR1pSrEsAz11"
      },
      "outputs": [],
      "source": [
        "# 내 필기용 : He initialization 이 공식 문서랑 다르다? => paper에 맞게 구현됐고 torch 공식 문서만 틀림\n",
        "import torch\n",
        "from torch import nn\n",
        "\n",
        "Fin=5000\n",
        "Fout=1000\n",
        "w = torch.zeros(141, Fin)\n",
        "nn.init.kaiming_uniform_(w, mode='fan_in', nonlinearity='relu') # forward pass에서 값의 범위를 유지시켜주기 위함\n",
        "print(w.std())\n",
        "print(torch.sqrt(torch.tensor(2/Fin)))\n",
        "w = torch.zeros(Fout, 212)\n",
        "nn.init.kaiming_uniform_(w, mode='fan_out', nonlinearity='relu') # backward pass에서 값의 범위를 유지시켜주기 위함\n",
        "print(w.std())\n",
        "print(torch.sqrt(torch.tensor(2/Fout)))\n",
        "\n",
        "# CNN?\n",
        "N=32\n",
        "C=64\n",
        "H=6\n",
        "W=10\n",
        "w = torch.zeros(N,C,H,W)\n",
        "nn.init.kaiming_uniform_(w, mode='fan_in', nonlinearity='relu')\n",
        "print(w.std())\n",
        "print(torch.sqrt(torch.tensor(2/(C*H*W))))\n",
        "\n",
        "w = torch.zeros(N,C,H,W)\n",
        "nn.init.kaiming_uniform_(w, mode='fan_out', nonlinearity='relu')\n",
        "print(w.std())\n",
        "print(torch.sqrt(torch.tensor(2/(N*H*W))))"
      ]
    }
  ],
  "metadata": {
    "colab": {
      "provenance": []
    },
    "kernelspec": {
      "display_name": "Python 3",
      "name": "python3"
    },
    "language_info": {
      "codemirror_mode": {
        "name": "ipython",
        "version": 3
      },
      "file_extension": ".py",
      "mimetype": "text/x-python",
      "name": "python",
      "nbconvert_exporter": "python",
      "pygments_lexer": "ipython3",
      "version": "3.8.17"
    }
  },
  "nbformat": 4,
  "nbformat_minor": 0
}
