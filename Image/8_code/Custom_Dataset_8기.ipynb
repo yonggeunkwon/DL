{
  "nbformat": 4,
  "nbformat_minor": 0,
  "metadata": {
    "colab": {
      "provenance": []
    },
    "kernelspec": {
      "name": "python3",
      "display_name": "Python 3"
    },
    "language_info": {
      "name": "python"
    }
  },
  "cells": [
    {
      "cell_type": "code",
      "execution_count": null,
      "metadata": {
        "id": "K4XPqjRTHf54"
      },
      "outputs": [],
      "source": [
        "import torch\n",
        "from torchvision import transforms\n",
        "import numpy as np"
      ]
    },
    {
      "cell_type": "code",
      "source": [
        "class Custom_Dataset(torch.utils.data.Dataset):\n",
        "    def __init__(self, X, Y, transform=None):\n",
        "        self.X = X\n",
        "        self.Y = Y\n",
        "        self.transform = transform\n",
        "\n",
        "    def __len__(self):\n",
        "        return self.X.shape[0]\n",
        "\n",
        "    def __getitem__(self, idx):\n",
        "        x = self.X[idx]\n",
        "        if self.transform is not None:\n",
        "            x = self.transform(x)\n",
        "        y = self.Y[idx]\n",
        "        return x, y"
      ],
      "metadata": {
        "id": "qRcnrgq3HsLc"
      },
      "execution_count": null,
      "outputs": []
    },
    {
      "cell_type": "code",
      "source": [
        "X_data = np.arange(-10,10).reshape(-1,1)\n",
        "Y_data = X_data**2"
      ],
      "metadata": {
        "id": "973GNPNUI7Cr"
      },
      "execution_count": null,
      "outputs": []
    },
    {
      "cell_type": "code",
      "source": [
        "transform = lambda x:x+1\n",
        "BATCH_SIZE = 8\n",
        "\n",
        "custom_DS = Custom_Dataset(X_data, Y_data, transform=transform)\n",
        "\n",
        "NoT = int(len(custom_DS)*0.8)\n",
        "NoV = int(len(custom_DS)*0.1)\n",
        "NoTes = len(custom_DS) - NoT - NoV\n",
        "train_DS, val_DS, test_DS = torch.utils.data.random_split(custom_DS, [NoT, NoV, NoTes])\n",
        "\n",
        "train_DL = torch.utils.data.DataLoader(train_DS, batch_size=BATCH_SIZE, shuffle=True)\n",
        "val_DL = torch.utils.data.DataLoader(val_DS, batch_size=BATCH_SIZE, shuffle=True)\n",
        "test_DL = torch.utils.data.DataLoader(test_DS, batch_size=BATCH_SIZE, shuffle=True)"
      ],
      "metadata": {
        "id": "CXR1bi_mJR4K"
      },
      "execution_count": null,
      "outputs": []
    },
    {
      "cell_type": "code",
      "source": [
        "for x_batch, y_batch in train_DL:\n",
        "    print(f\"x_batch = {x_batch.reshape(-1)}, \\n\" \n",
        "          f\"y_batch = {y_batch.reshape(-1)}\")  \n",
        "print()\n",
        "for x_batch, y_batch in val_DL:\n",
        "    print(f\"x_batch = {x_batch.reshape(-1)}, \\n\" \n",
        "          f\"y_batch = {y_batch.reshape(-1)}\")  \n",
        "print()\n",
        "for x_batch, y_batch in test_DL:\n",
        "    print(f\"x_batch = {x_batch.reshape(-1)}, \\n\" \n",
        "          f\"y_batch = {y_batch.reshape(-1)}\")  "
      ],
      "metadata": {
        "colab": {
          "base_uri": "https://localhost:8080/"
        },
        "id": "juSQbjDZKdbk",
        "outputId": "66c88c89-1eec-4b15-a669-55ecc9ec99f3"
      },
      "execution_count": null,
      "outputs": [
        {
          "output_type": "stream",
          "name": "stdout",
          "text": [
            "x_batch = tensor([ 1, -3, -1,  3,  5,  8,  6,  2]), \n",
            "y_batch = tensor([ 0, 16,  4,  4, 16, 49, 25,  1])\n",
            "x_batch = tensor([-6, 10, -2, -5,  0, -8,  7, -9]), \n",
            "y_batch = tensor([ 49,  81,   9,  36,   1,  81,  36, 100])\n",
            "\n",
            "x_batch = tensor([-7, -4]), \n",
            "y_batch = tensor([64, 25])\n",
            "\n",
            "x_batch = tensor([9, 4]), \n",
            "y_batch = tensor([64,  9])\n"
          ]
        }
      ]
    }
  ]
}